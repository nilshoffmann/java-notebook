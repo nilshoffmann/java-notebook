{
 "cells": [
  {
   "cell_type": "markdown",
   "id": "384c1bd8-0565-45f2-97dd-6a777956ad54",
   "metadata": {
    "id": "384c1bd8-0565-45f2-97dd-6a777956ad54"
   },
   "source": [
    "# Using jmzqc via Maven\n",
    "\n",
    "In order to use jmzqc as a library, add the following statement to your maven pom.xml file. Please check https://ms-quality-hub.github.io/jmzqc/dependency-info.html for details on how to add the dependency for other build tools."
   ]
  },
  {
   "cell_type": "code",
   "execution_count": null,
   "id": "ccf42d49-91f1-4841-8e34-151592d6026d",
   "metadata": {
    "colab": {
     "base_uri": "https://localhost:8080/"
    },
    "id": "ccf42d49-91f1-4841-8e34-151592d6026d",
    "outputId": "7f34fd55-ee08-43f8-e8c9-5ba0cc2d959e"
   },
   "outputs": [],
   "source": [
    "%%loadFromPOM\n",
    "<!-- for mzQC functionality -->\n",
    "<dependency>\n",
    "    <groupId>org.lifs-tools</groupId>\n",
    "    <artifactId>jmzqc</artifactId>\n",
    "    <version>1.0.0-RC1</version>\n",
    "</dependency>\n",
    "<!-- for mzML access -->\n",
    "<dependency>\n",
    "    <groupId>io.github.msdk</groupId>\n",
    "    <artifactId>msdk-io-mzml</artifactId>\n",
    "    <version>0.0.27</version>\n",
    "</dependency>\n",
    "<!-- for table-based operations -->\n",
    "<dependency>\n",
    "    <groupId>tech.tablesaw</groupId>\n",
    "    <artifactId>tablesaw-core</artifactId>\n",
    "    <version>0.43.1</version>\n",
    "</dependency>\n",
    "<!-- for plotting -->\n",
    "<dependency>\n",
    "    <groupId>org.knowm.xchart</groupId>\n",
    "    <artifactId>xchart</artifactId>\n",
    "    <version>3.8.2</version>\n",
    "</dependency>\n",
    "<!-- for logging -->\n",
    "<dependency>\n",
    "    <groupId>org.slf4j</groupId>\n",
    "    <artifactId>slf4j-simple</artifactId>\n",
    "    <version>1.7.26</version>\n",
    "</dependency>"
   ]
  },
  {
   "cell_type": "markdown",
   "id": "beeba2b9-3577-43be-8101-8a92f9e5b9ae",
   "metadata": {
    "id": "beeba2b9-3577-43be-8101-8a92f9e5b9ae"
   },
   "source": [
    "Add the following imports to your Java file to use the MzQC classes and the validation messages."
   ]
  },
  {
   "cell_type": "code",
   "execution_count": null,
   "id": "6ee37984-65fa-444a-a3f4-b42e203044b5",
   "metadata": {
    "id": "6ee37984-65fa-444a-a3f4-b42e203044b5"
   },
   "outputs": [],
   "source": [
    "import java.nio.*;\n",
    "import java.nio.file.*;\n",
    "import java.net.*;\n",
    "import java.io.*;"
   ]
  },
  {
   "cell_type": "code",
   "execution_count": null,
   "id": "piMrBjrmUU8v",
   "metadata": {
    "id": "piMrBjrmUU8v"
   },
   "outputs": [],
   "source": [
    "var outputDir = new File(\"MTBLS1375\");\n",
    "try {\n",
    "    outputDir.mkdirs();\n",
    "    var cmd = \"wget -r -l 1 -A .mzML --reject 'index.html*' -P MTBLS1375 -nc -np -nd -nH --cut-dirs=6 -e robots=off https://ftp.ebi.ac.uk/pub/databases/metabolights/studies/public/MTBLS1375/\";\n",
    "    var pb = new ProcessBuilder(cmd.split(\" \"));\n",
    "    System.out.println(\"Downloading files with: \" + pb.command());\n",
    "    pb.inheritIO();\n",
    "    Process p = pb.start();\n",
    "    p.waitFor();\n",
    "    System.out.println(\"Finished downloading of files!\");\n",
    "} catch (IOException | InterruptedException ex) {\n",
    "    System.err.println(\"Exception:\" + ex.getLocalizedMessage());\n",
    "}"
   ]
  },
  {
   "cell_type": "code",
   "execution_count": null,
   "id": "9tNFV31zVqWm",
   "metadata": {
    "id": "9tNFV31zVqWm"
   },
   "outputs": [],
   "source": [
    "import io.github.msdk.MSDKException;\n",
    "import io.github.msdk.MSDKRuntimeException;\n",
    "import io.github.msdk.datamodel.ChromatogramType;\n",
    "import io.github.msdk.io.mzml.MzMLFileImportMethod;\n",
    "import io.github.msdk.io.mzml.data.MzMLRawDataFile;\n",
    "import java.util.stream.Collectors;\n",
    "List<MzMLRawDataFile> mzMLData = Collections.emptyList();\n",
    "try {\n",
    "    var mzMLFilePaths = Files.list(outputDir.toPath()).collect(Collectors.toList());\n",
    "    mzMLData = mzMLFilePaths.stream().map(path -> {\n",
    "        try {\n",
    "            return new MzMLFileImportMethod(path).execute();\n",
    "        } catch (MSDKException ex) {\n",
    "            throw new MSDKRuntimeException(ex);\n",
    "        }\n",
    "    }\n",
    "    ).collect(Collectors.toList());\n",
    "} catch (IOException ex) {\n",
    "    System.err.println(\"Exception:\" + ex.getLocalizedMessage());\n",
    "}\n",
    "System.out.println(\"Loaded \"+mzMLData.size()+\" files!\");"
   ]
  },
  {
   "cell_type": "code",
   "execution_count": null,
   "id": "ZmhXdvPdWOsL",
   "metadata": {
    "id": "ZmhXdvPdWOsL"
   },
   "outputs": [],
   "source": [
    "import org.lifstools.jmzqc.*;\n",
    "import com.networknt.schema.*;\n",
    "import java.util.AbstractMap.SimpleEntry;\n",
    "import com.google.common.collect.Range;\n",
    "var mzMLFormatParameter = new CvParameter(\"MS:1000584\", null, \"mzML format\", null);\n",
    "Map<InputFile, List<QualityMetric>> mzMLFileStats = mzMLData.stream().map((t) -> {\n",
    "    System.out.println(\"Processing file: \" + t.getName());\n",
    "\n",
    "    var precursorMzRange = t.getChromatograms().stream().filter(chrom -> chrom.getChromatogramType() == ChromatogramType.MRM_SRM).map(chrom -> {\n",
    "        var mzr = Range.singleton(chrom.getIsolations().get(0).getPrecursorMz());\n",
    "        return mzr;\n",
    "    }).filter(range -> range != null && !range.isEmpty()).reduce((l, r) -> l.span(r)).orElse(Range.singleton(0.0));\n",
    "    var precursorMzRangeMetric = new QualityMetric(\"MS:4000069\", null, \"m/z acquisition range\", Arrays.asList(precursorMzRange.lowerEndpoint(), precursorMzRange.upperEndpoint()), null);\n",
    "    var numberOfChromatogramsMetric = new QualityMetric(\"MS:4000071\", null, \"number of chromatograms\", t.getChromatograms().stream().filter(chrom -> chrom.getChromatogramType() == ChromatogramType.MRM_SRM).count(), null);\n",
    "    var rtRange = t.getChromatograms().stream().map(\n",
    "            chrom -> {\n",
    "                return chrom.getRtRange();\n",
    "            }\n",
    "    ).reduce(\n",
    "            (lrt, rrt) -> lrt.span(rrt)\n",
    "    ).get();\n",
    "    var rtRangeMetric = new QualityMetric(\"MS:4000070\", null, \"retention time acquisition range\", Arrays.asList(rtRange.lowerEndpoint(), rtRange.upperEndpoint()), null);\n",
    "    return new SimpleEntry<InputFile, List<QualityMetric>>(\n",
    "            new InputFile(mzMLFormatParameter, Collections.emptyList(), t.getOriginalFile().get().toURI(), t.getName()),\n",
    "            Arrays.asList(\n",
    "                    numberOfChromatogramsMetric,\n",
    "                    precursorMzRangeMetric,\n",
    "                    rtRangeMetric\n",
    "            )\n",
    "    );\n",
    "}).collect(Collectors.toMap(Map.Entry::getKey, Map.Entry::getValue));"
   ]
  },
  {
   "cell_type": "code",
   "execution_count": null,
   "id": "Gd9s3lGSXylv",
   "metadata": {
    "id": "Gd9s3lGSXylv"
   },
   "outputs": [],
   "source": [
    "import com.fasterxml.jackson.annotation.JsonInclude.Include;\n",
    "import com.fasterxml.jackson.core.JsonFactoryBuilder;\n",
    "import com.fasterxml.jackson.core.JsonParser;\n",
    "import com.fasterxml.jackson.core.JsonProcessingException;\n",
    "import com.fasterxml.jackson.core.json.JsonReadFeature;\n",
    "import com.fasterxml.jackson.databind.DeserializationContext;\n",
    "import com.fasterxml.jackson.databind.JsonDeserializer;\n",
    "import com.fasterxml.jackson.databind.ObjectMapper;\n",
    "import com.fasterxml.jackson.databind.ObjectWriter;\n",
    "import com.fasterxml.jackson.databind.SerializationFeature;\n",
    "import com.fasterxml.jackson.databind.module.SimpleModule;\n",
    "/* helper function to create formatted / pretty printed JSON */\n",
    "public static ObjectWriter prepareJsonWriter() {\n",
    "    JsonFactoryBuilder jfb = new JsonFactoryBuilder().\n",
    "            enable(JsonReadFeature.ALLOW_TRAILING_COMMA);\n",
    "    ObjectMapper mapper = new ObjectMapper(jfb.build());\n",
    "    mapper.findAndRegisterModules();\n",
    "    mapper.configure(SerializationFeature.WRITE_DATES_AS_TIMESTAMPS, false);\n",
    "    mapper.configure(SerializationFeature.INDENT_OUTPUT, true);\n",
    "    mapper.configure(JsonParser.Feature.ALLOW_COMMENTS, true);\n",
    "    mapper.setSerializationInclusion(Include.NON_EMPTY);\n",
    "\n",
    "    SimpleModule module = new SimpleModule();\n",
    "    module.addDeserializer(OffsetDateTime.class, new JsonDeserializer<OffsetDateTime>() {\n",
    "        @Override\n",
    "        public OffsetDateTime deserialize(JsonParser jsonParser, DeserializationContext deserializationContext) throws IOException, JsonProcessingException {\n",
    "            String value = jsonParser.getText();\n",
    "            return Converter.parseDateTimeString(value);\n",
    "        }\n",
    "    });\n",
    "    mapper.registerModule(module);\n",
    "    return mapper.writerFor(Coordinate.class);\n",
    "}"
   ]
  },
  {
   "cell_type": "code",
   "execution_count": null,
   "id": "0zJsjeg2XmdT",
   "metadata": {
    "id": "0zJsjeg2XmdT"
   },
   "outputs": [],
   "source": [
    "import java.time.OffsetDateTime;\n",
    "MzQC mzQC = null;\n",
    "var file = \"MTBLS1375/MTBLS1375\";\n",
    "try {\n",
    "    var analysisSoftware = new AnalysisSoftware(\"MS:1000799\", null, \"custom unreleased software tool\", \"jmzqc\", new URI(\"https://github.com/MS-Quality-hub/jmzqc\"), \"1.0.0-RC1\");\n",
    "    List<BaseQuality> bqs = mzMLFileStats.entrySet().stream().map((t) -> {\n",
    "        Metadata metadata = new Metadata(Arrays.asList(analysisSoftware), Collections.emptyList(), Arrays.asList(t.getKey()), null);\n",
    "        return new BaseQuality(metadata, t.getValue());\n",
    "    }\n",
    "    ).collect(Collectors.toList());\n",
    "    mzQC = new MzQC(\n",
    "            \"nils.hoffmann@cebitec.uni-bielefeld.de\",\n",
    "            \"Nils Hoffmann\",\n",
    "            Arrays.asList(\n",
    "                    new ControlledVocabulary(\n",
    "                            \"Proteomics Standards Initiative Mass Spectrometry Ontology\",\n",
    "                            new URI(\"https://github.com/HUPO-PSI/psi-ms-CV/releases/download/v4.1.103/psi-ms.obo\"),\n",
    "                            \"4.1.103\"\n",
    "                    )\n",
    "            ),\n",
    "            OffsetDateTime.now(),\n",
    "            \"MzQC for basic QC information on MetaboLights dataset MTBLS1375\",\n",
    "            bqs,\n",
    "            Collections.emptyList(),\n",
    "            \"1.0.0\");\n",
    "    Set<ValidationMessage> messages = Converter.validate(mzQC);\n",
    "    System.out.println(\"Validation messages: \" + messages);\n",
    "    if(!messages.isEmpty()) {\n",
    "      System.err.println(\"Validation failed with \"+messages.size()+\" messages!\");\n",
    "    } else {\n",
    "      ObjectWriter writer = prepareJsonWriter();\n",
    "      writer.writeValue(new File(file + \".mzQC\"), new Coordinate(mzQC));\n",
    "      // print the first 800 characters of the mzQC file\n",
    "      System.out.println(writer.writeValueAsString(new Coordinate(mzQC)).substring(0, 799));\n",
    "    }\n",
    "} catch (URISyntaxException | IOException ex) {\n",
    "    System.err.println(\"Exception: \"+ex.getLocalizedMessage());\n",
    "}"
   ]
  },
  {
   "cell_type": "code",
   "execution_count": null,
   "id": "zXn0i-Y7ZLXc",
   "metadata": {
    "id": "zXn0i-Y7ZLXc"
   },
   "outputs": [],
   "source": [
    "import org.knowm.xchart.*;\n",
    "\n",
    "if(mzQC!=null) {\n",
    "  System.out.println(\"MzQC is not null!\");\n",
    "}\n",
    "\n",
    "CategoryChart chart = new CategoryChartBuilder().width(800).height(600).title(\"m/z Range\").build();\n",
    "\n",
    " "
   ]
  }
 ],
 "metadata": {
  "colab": {
   "collapsed_sections": [],
   "provenance": []
  },
  "kernelspec": {
   "display_name": "Java",
   "language": "java",
   "name": "java"
  },
  "language_info": {
   "codemirror_mode": "java",
   "file_extension": ".jshell",
   "mimetype": "text/x-java-source",
   "name": "Java",
   "pygments_lexer": "java",
   "version": "17.0.4.1+1-LTS"
  }
 },
 "nbformat": 4,
 "nbformat_minor": 5
}
