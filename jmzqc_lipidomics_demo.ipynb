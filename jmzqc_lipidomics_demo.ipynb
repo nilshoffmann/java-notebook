{
  "cells": [
    {
      "cell_type": "markdown",
      "id": "384c1bd8-0565-45f2-97dd-6a777956ad54",
      "metadata": {
        "id": "384c1bd8-0565-45f2-97dd-6a777956ad54"
      },
      "source": [
        "# Using jmzqc via Maven\n",
        "\n",
        "In order to use jmzqc as a library, add the following statement to your maven pom.xml file. Please check https://ms-quality-hub.github.io/jmzqc/dependency-info.html for details on how to add the dependency for other build tools."
      ]
    },
    {
      "cell_type": "code",
      "execution_count": 3,
      "id": "ccf42d49-91f1-4841-8e34-151592d6026d",
      "metadata": {
        "id": "ccf42d49-91f1-4841-8e34-151592d6026d",
        "colab": {
          "base_uri": "https://localhost:8080/"
        },
        "outputId": "7f34fd55-ee08-43f8-e8c9-5ba0cc2d959e"
      },
      "outputs": [
        {
          "output_type": "stream",
          "name": "stderr",
          "text": [
            "UsageError: Cell magic `%%loadFromPOM` not found.\n"
          ]
        }
      ],
      "source": [
        "%%loadFromPOM\n",
        "<!-- for mzQC functionality -->\n",
        "<dependency>\n",
        "    <groupId>org.lifs-tools</groupId>\n",
        "    <artifactId>jmzqc</artifactId>\n",
        "    <version>1.0.0-RC1</version>\n",
        "</dependency>\n",
        "<!-- for mzML access -->\n",
        "<dependency>\n",
        "    <groupId>io.github.msdk</groupId>\n",
        "    <artifactId>msdk-io-mzml</artifactId>\n",
        "    <version>0.0.27</version>\n",
        "</dependency>\n",
        "<!-- for table-based operations -->\n",
        "<dependency>\n",
        "    <groupId>tech.tablesaw</groupId>\n",
        "    <artifactId>tablesaw-core</artifactId>\n",
        "    <version>0.43.1</version>\n",
        "</dependency>\n",
        "<!-- for plotting -->\n",
        "<dependency>\n",
        "    <groupId>org.knowm.xchart</groupId>\n",
        "    <artifactId>xchart</artifactId>\n",
        "    <version>3.8.2</version>\n",
        "</dependency>"
      ]
    },
    {
      "cell_type": "markdown",
      "id": "beeba2b9-3577-43be-8101-8a92f9e5b9ae",
      "metadata": {
        "id": "beeba2b9-3577-43be-8101-8a92f9e5b9ae"
      },
      "source": [
        "Add the following imports to your Java file to use the MzQC classes and the validation messages."
      ]
    },
    {
      "cell_type": "code",
      "execution_count": null,
      "id": "6ee37984-65fa-444a-a3f4-b42e203044b5",
      "metadata": {
        "id": "6ee37984-65fa-444a-a3f4-b42e203044b5"
      },
      "outputs": [],
      "source": [
        "import java.nio.*;\n",
        "import java.nio.file.*;\n",
        "import java.net.*;\n",
        "import java.io.*;"
      ]
    },
    {
      "cell_type": "code",
      "source": [
        "var outputDir = new File(\"proteomics-qc\");\n",
        "var file = new File(outputDir, \"20181113_010_autoQC01.mzML\");\n",
        "var fileUrl = \"https://massive.ucsd.edu/ProteoSAFe/DownloadResultFile?file=f.MSV000086542/ccms_peak/\" + file.getName() + \"&forceDownload=true\";\n",
        "outputDir.mkdirs();\n",
        "\n",
        "try {\n",
        "    InputStream in = new URL(fileUrl).openStream();\n",
        "    Files.copy(in, file.toPath(), StandardCopyOption.REPLACE_EXISTING);\n",
        "} catch (IOException ex) {\n",
        "    System.err.println(\"Exception:\" + ex.getLocalizedMessage());\n",
        "}"
      ],
      "metadata": {
        "id": "piMrBjrmUU8v"
      },
      "id": "piMrBjrmUU8v",
      "execution_count": null,
      "outputs": []
    },
    {
      "cell_type": "code",
      "source": [
        "import io.github.msdk.MSDKException;\n",
        "import io.github.msdk.MSDKRuntimeException;\n",
        "import io.github.msdk.datamodel.ChromatogramType;\n",
        "import io.github.msdk.io.mzml.MzMLFileImportMethod;\n",
        "import io.github.msdk.io.mzml.data.MzMLRawDataFile;\n",
        "import java.util.stream.Collectors;\n",
        "List<MzMLRawDataFile> mzMLData = Collections.emptyList();\n",
        "try {\n",
        "    var mzMLFilePaths = Files.list(outputDir.toPath()).collect(Collectors.toList());\n",
        "    mzMLData = mzMLFilePaths.stream().map(path -> {\n",
        "        try {\n",
        "            return new MzMLFileImportMethod(path).execute();\n",
        "        } catch (MSDKException ex) {\n",
        "            throw new MSDKRuntimeException(ex);\n",
        "        }\n",
        "    }\n",
        "    ).collect(Collectors.toList());\n",
        "} catch (IOException ex) {\n",
        "    System.err.println(\"Exception:\" + ex.getLocalizedMessage());\n",
        "}"
      ],
      "metadata": {
        "id": "9tNFV31zVqWm"
      },
      "id": "9tNFV31zVqWm",
      "execution_count": null,
      "outputs": []
    },
    {
      "cell_type": "code",
      "source": [
        "import org.lifstools.jmzqc.*;\n",
        "import com.networknt.schema.*;\n",
        "import java.util.AbstractMap.SimpleEntry;\n",
        "import com.google.common.collect.Range;\n",
        "var mzMLFormatParameter = new CvParameter(\"MS:1000584\", null, \"mzML format\", null);\n",
        "Map<InputFile, List<QualityMetric>> mzMLFileStats = mzMLData.stream().map((t) -> {\n",
        "    System.out.println(\"Processing file: \" + t.getName());\n",
        "    System.out.println(\"MS1 mz range...\");\n",
        "    var ms1MzRange = t.getScans().stream().filter(\n",
        "            scan -> scan.getMsLevel() == 1\n",
        "    ).map(\n",
        "            scan -> scan.getMzRange()\n",
        "    ).reduce(\n",
        "            (l, r) -> l.span(r)\n",
        "    ).orElse(Range.singleton(Double.NaN));\n",
        "\n",
        "    var ms1MzRangeMetric = new QualityMetric(\"MS:4000069\", null, \"m/z acquisition range\", Arrays.asList(ms1MzRange.lowerEndpoint(), ms1MzRange.upperEndpoint()), null);\n",
        "    System.out.println(\"TIC and RT values...\");\n",
        "    var ticValuesAndRts = t.getChromatograms().stream().filter(\n",
        "            chrom -> chrom.getChromatogramType() == ChromatogramType.TIC\n",
        "    ).findFirst().map(\n",
        "            chrom -> {\n",
        "                return new SimpleEntry<>(chrom.getRetentionTimes(), chrom.getIntensityValues());\n",
        "            }\n",
        "    ).orElse(new SimpleEntry<>(new float[0], new float[0]));\n",
        "    var totalIonChromatogram = new QualityMetric(\n",
        "            \"MS:1000235\",\n",
        "            null,\n",
        "            \"total ion current chromatogram\",\n",
        "            ticValuesAndRts.getValue(), new Unit(new CvParameter(\"UO:0000010\", null, \"second\", ticValuesAndRts.getKey()), null));\n",
        "    var numberOfChromatogramsMetric = new QualityMetric(\"MS:4000071\", null, \"number of chromatograms\", t.getChromatograms().stream().count(), null);\n",
        "    System.out.println(\"RT range...\");\n",
        "    var rtRange = t.getScans().stream().map(\n",
        "            scan -> Range.singleton(scan.getRetentionTime())\n",
        "    ).reduce(\n",
        "            (lrt, rrt) -> lrt.span(rrt)\n",
        "    ).get();\n",
        "    var rtRangeMetric = new QualityMetric(\"MS:4000070\", null, \"retention time acquisition range\", Arrays.asList(rtRange.lowerEndpoint(), rtRange.upperEndpoint()), new Unit(new CvParameter(\"UO:0000010\", null, \"second\", null), null));\n",
        "    return new SimpleEntry<InputFile, List<QualityMetric>>(\n",
        "            new InputFile(mzMLFormatParameter, Collections.emptyList(), t.getOriginalFile().get().toURI(), t.getName()),\n",
        "            Arrays.asList(\n",
        "                    numberOfChromatogramsMetric,\n",
        "                    ms1MzRangeMetric,\n",
        "                    rtRangeMetric,\n",
        "                    totalIonChromatogram\n",
        "            )\n",
        "    );\n",
        "}).collect(Collectors.toMap(Map.Entry::getKey, Map.Entry::getValue));"
      ],
      "metadata": {
        "id": "ZmhXdvPdWOsL"
      },
      "id": "ZmhXdvPdWOsL",
      "execution_count": null,
      "outputs": []
    },
    {
      "cell_type": "code",
      "source": [
        "import com.fasterxml.jackson.annotation.JsonInclude.Include;\n",
        "import com.fasterxml.jackson.core.JsonFactoryBuilder;\n",
        "import com.fasterxml.jackson.core.JsonParser;\n",
        "import com.fasterxml.jackson.core.JsonProcessingException;\n",
        "import com.fasterxml.jackson.core.json.JsonReadFeature;\n",
        "import com.fasterxml.jackson.databind.DeserializationContext;\n",
        "import com.fasterxml.jackson.databind.JsonDeserializer;\n",
        "import com.fasterxml.jackson.databind.ObjectMapper;\n",
        "import com.fasterxml.jackson.databind.ObjectWriter;\n",
        "import com.fasterxml.jackson.databind.SerializationFeature;\n",
        "import com.fasterxml.jackson.databind.module.SimpleModule;\n",
        "/* helper function to create formatted / pretty printed JSON */\n",
        "public static ObjectWriter prepareJsonWriter() {\n",
        "    JsonFactoryBuilder jfb = new JsonFactoryBuilder().\n",
        "            enable(JsonReadFeature.ALLOW_TRAILING_COMMA);\n",
        "    ObjectMapper mapper = new ObjectMapper(jfb.build());\n",
        "    mapper.findAndRegisterModules();\n",
        "    mapper.configure(SerializationFeature.WRITE_DATES_AS_TIMESTAMPS, false);\n",
        "    mapper.configure(SerializationFeature.INDENT_OUTPUT, true);\n",
        "    mapper.configure(JsonParser.Feature.ALLOW_COMMENTS, true);\n",
        "    mapper.setSerializationInclusion(Include.NON_EMPTY);\n",
        "\n",
        "    SimpleModule module = new SimpleModule();\n",
        "    module.addDeserializer(OffsetDateTime.class, new JsonDeserializer<OffsetDateTime>() {\n",
        "        @Override\n",
        "        public OffsetDateTime deserialize(JsonParser jsonParser, DeserializationContext deserializationContext) throws IOException, JsonProcessingException {\n",
        "            String value = jsonParser.getText();\n",
        "            return Converter.parseDateTimeString(value);\n",
        "        }\n",
        "    });\n",
        "    mapper.registerModule(module);\n",
        "    return mapper.writerFor(Coordinate.class);\n",
        "}"
      ],
      "metadata": {
        "id": "Gd9s3lGSXylv"
      },
      "id": "Gd9s3lGSXylv",
      "execution_count": null,
      "outputs": []
    },
    {
      "cell_type": "code",
      "source": [
        "import java.time.OffsetDateTime;\n",
        "MzQC mzQC = null;\n",
        "try {\n",
        "    var analysisSoftware = new AnalysisSoftware(\"MS:1000799\", null, \"custom unreleased software tool\", \"jmzqc\", new URI(\"https://github.com/MS-Quality-hub/jmzqc\"), \"1.0.0-RC1\");\n",
        "    List<BaseQuality> bqs = mzMLFileStats.entrySet().stream().map((t) -> {\n",
        "        Metadata metadata = new Metadata(Arrays.asList(analysisSoftware), Collections.emptyList(), Arrays.asList(t.getKey()), null);\n",
        "        return new BaseQuality(metadata, t.getValue());\n",
        "    }\n",
        "    ).collect(Collectors.toList());\n",
        "    mzQC = new MzQC(\n",
        "            \"nils.hoffmann@cebitec.uni-bielefeld.de\",\n",
        "            \"Nils Hoffmann\",\n",
        "            Arrays.asList(\n",
        "                    new ControlledVocabulary(\n",
        "                            \"Proteomics Standards Initiative Mass Spectrometry Ontology\",\n",
        "                            new URI(\"https://github.com/HUPO-PSI/psi-ms-CV/releases/download/v4.1.103/psi-ms.obo\"),\n",
        "                            \"4.1.103\"\n",
        "                    )\n",
        "            ),\n",
        "            OffsetDateTime.now(),\n",
        "            \"MzQC for basic QC information on MetaboLights dataset MTBLS1375\",\n",
        "            bqs,\n",
        "            Collections.emptyList(),\n",
        "            \"1.0.0\");\n",
        "    Set<ValidationMessage> messages = Converter.validate(mzQC);\n",
        "    System.out.println(\"Validation messages: \" + messages);\n",
        "    if(!messages.isEmpty()) {\n",
        "      System.err.println(\"Validation failed with \"+messages.size()+\" messages!\");\n",
        "    } else {\n",
        "      ObjectWriter writer = prepareJsonWriter();\n",
        "      writer.writeValue(new File(file + \".mzQC\"), new Coordinate(mzQC));\n",
        "      System.out.println(writer.writeValueAsString(new Coordinate(mzQC)));\n",
        "    }\n",
        "} catch (URISyntaxException | IOException ex) {\n",
        "    System.err.println(\"Exception: \"+ex.getLocalizedMessage());\n",
        "}"
      ],
      "metadata": {
        "id": "0zJsjeg2XmdT"
      },
      "id": "0zJsjeg2XmdT",
      "execution_count": null,
      "outputs": []
    },
    {
      "cell_type": "code",
      "source": [
        "import org.knowm.xchart.*;\n",
        "\n",
        "if(mzQC!=null) {\n",
        "  System.out.println(\"MzQC is not null!\");\n",
        "}\n"
      ],
      "metadata": {
        "id": "zXn0i-Y7ZLXc"
      },
      "id": "zXn0i-Y7ZLXc",
      "execution_count": null,
      "outputs": []
    }
  ],
  "metadata": {
    "kernelspec": {
      "display_name": "Python 3",
      "name": "python3"
    },
    "language_info": {
      "name": "python"
    },
    "colab": {
      "provenance": [],
      "collapsed_sections": []
    }
  },
  "nbformat": 4,
  "nbformat_minor": 5
}