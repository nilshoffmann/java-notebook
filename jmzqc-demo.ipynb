{
 "cells": [
  {
   "cell_type": "markdown",
   "id": "384c1bd8-0565-45f2-97dd-6a777956ad54",
   "metadata": {},
   "source": [
    "# Using jmzqc via Maven\n",
    "\n",
    "In order to use jmzqc as a library, add the following statement to your maven pom.xml file. Please check https://ms-quality-hub.github.io/jmzqc/dependency-info.html for details on how to add the dependency for other build tools."
   ]
  },
  {
   "cell_type": "code",
   "execution_count": 27,
   "id": "ccf42d49-91f1-4841-8e34-151592d6026d",
   "metadata": {},
   "outputs": [],
   "source": [
    "%%loadFromPOM\n",
    "<dependency>\n",
    "    <groupId>org.lifs-tools</groupId>\n",
    "    <artifactId>jmzqc</artifactId>\n",
    "    <version>1.0.0-RC1</version>\n",
    "</dependency>"
   ]
  },
  {
   "cell_type": "markdown",
   "id": "beeba2b9-3577-43be-8101-8a92f9e5b9ae",
   "metadata": {},
   "source": [
    "Add the following imports to your Java file to use the MzQC classes and the validation messages."
   ]
  },
  {
   "cell_type": "code",
   "execution_count": 29,
   "id": "6ee37984-65fa-444a-a3f4-b42e203044b5",
   "metadata": {},
   "outputs": [],
   "source": [
    "import org.lifstools.jmzqc.*;\n",
    "import com.networknt.schema.*;"
   ]
  },
  {
   "cell_type": "code",
   "execution_count": null,
   "id": "955c19e2-b14f-4a21-8436-8c7ad9f10255",
   "metadata": {},
   "outputs": [],
   "source": [
    "The following file is one of our examples and should validate just fine:"
   ]
  },
  {
   "cell_type": "code",
   "execution_count": 31,
   "id": "8ae421ab-e90c-46cb-a8cc-1541f949a3f8",
   "metadata": {},
   "outputs": [
    {
     "name": "stdout",
     "output_type": "stream",
     "text": [
      "[]\n"
     ]
    }
   ],
   "source": [
    "var messages = Converter.validate(new URL(\"https://raw.githubusercontent.com/HUPO-PSI/mzQC/main/specification_documents/draft_v1/examples/QC2-sample-example.mzQC\"));\n",
    "System.out.println(messages);"
   ]
  }
 ],
 "metadata": {
  "kernelspec": {
   "display_name": "Java",
   "language": "java",
   "name": "java"
  },
  "language_info": {
   "codemirror_mode": "java",
   "file_extension": ".jshell",
   "mimetype": "text/x-java-source",
   "name": "Java",
   "pygments_lexer": "java",
   "version": "17.0.3-internal+0-adhoc..src"
  }
 },
 "nbformat": 4,
 "nbformat_minor": 5
}
